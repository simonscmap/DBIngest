{
 "cells": [
  {
   "cell_type": "code",
   "execution_count": 1,
   "metadata": {},
   "outputs": [],
   "source": [
    "import sys\n",
    "sys.path.append('../')\n",
    "import insertFunctions as iF\n",
    "import insertPrep as ip\n",
    "import config_vault as cfgv\n",
    "import pandas as pd\n",
    "\n",
    "import glob\n",
    "import os\n",
    "import xarray as xr\n",
    "from timeit import default_timer as timer\n",
    "\n",
    "from dask.distributed import Client, progress\n",
    "import dask.dataframe as dd\n",
    "client = Client()"
   ]
  },
  {
   "cell_type": "code",
   "execution_count": 2,
   "metadata": {},
   "outputs": [
    {
     "data": {
      "text/html": [
       "<table style=\"border: 2px solid white;\">\n",
       "<tr>\n",
       "<td style=\"vertical-align: top; border: 0px solid white\">\n",
       "<h3>Client</h3>\n",
       "<ul>\n",
       "  <li><b>Scheduler: </b>tcp://127.0.0.1:42637\n",
       "  <li><b>Dashboard: </b><a href='http://127.0.0.1:8787/status' target='_blank'>http://127.0.0.1:8787/status</a>\n",
       "</ul>\n",
       "</td>\n",
       "<td style=\"vertical-align: top; border: 0px solid white\">\n",
       "<h3>Cluster</h3>\n",
       "<ul>\n",
       "  <li><b>Workers: </b>4</li>\n",
       "  <li><b>Cores: </b>12</li>\n",
       "  <li><b>Memory: </b>33.35 GB</li>\n",
       "</ul>\n",
       "</td>\n",
       "</tr>\n",
       "</table>"
      ],
      "text/plain": [
       "<Client: scheduler='tcp://127.0.0.1:42637' processes=4 cores=12>"
      ]
     },
     "execution_count": 2,
     "metadata": {},
     "output_type": "execute_result"
    }
   ],
   "source": [
    "client"
   ]
  },
  {
   "cell_type": "code",
   "execution_count": 5,
   "metadata": {},
   "outputs": [],
   "source": [
    "############################\n",
    "########### OPTS ###########\n",
    "tableName = 'tblDarwin_3day_temp'\n",
    "rawFilePath = '/media/nrhagen/Drobo/OpediaVault/model/darwin_3day_temp/rep/'\n",
    "netcdf_list = glob.glob(rawFilePath + '*.nc')\n",
    "exportBase = cfgv.opedia_proj + 'db/dbInsert/export/'\n",
    "prefix = tableName\n",
    "export_path = '%s%s.csv' % (exportBase, prefix)\n",
    "############################\n",
    "############################\n",
    "\n",
    "def netcdf_to_feather_Darwin_3day(rawFilePath, netcdf_list, tableName):\n",
    "    for path in netcdf_list:\n",
    "        start = timer()\n",
    "        xdf = xr.open_dataset(path)\n",
    "        return xdf\n",
    "        break\n",
    "#         xdf = xdf.persist(xdf)\n",
    "#         df_select = xdf.to_dataframe()\n",
    "        # df_select = df_select.head(10000000)\n",
    "#         df_select.reset_index(inplace=True)\n",
    "#         df_select.to_feather(rawFilePath + tableName + '_' + os.path.basename(path)[:-3] + '.feather')\n",
    "#         df_select.to_csv(rawFilePath + tableName + '_' + os.path.basename(path)[:-3] + '.csv', sep=',')\n",
    "\n",
    "\n",
    "\n",
    "xdf = netcdf_to_feather_Darwin_3day(rawFilePath, netcdf_list, tableName)"
   ]
  },
  {
   "cell_type": "code",
   "execution_count": 6,
   "metadata": {},
   "outputs": [
    {
     "ename": "NameError",
     "evalue": "name 'xdf' is not defined",
     "output_type": "error",
     "traceback": [
      "\u001b[0;31m---------------------------------------------------------------------------\u001b[0m",
      "\u001b[0;31mNameError\u001b[0m                                 Traceback (most recent call last)",
      "\u001b[0;32m<ipython-input-6-c4196beaf7d5>\u001b[0m in \u001b[0;36m<module>\u001b[0;34m\u001b[0m\n\u001b[0;32m----> 1\u001b[0;31m \u001b[0mxdf\u001b[0m\u001b[0;34m\u001b[0m\u001b[0;34m\u001b[0m\u001b[0m\n\u001b[0m",
      "\u001b[0;31mNameError\u001b[0m: name 'xdf' is not defined"
     ]
    }
   ],
   "source": []
  },
  {
   "cell_type": "code",
   "execution_count": null,
   "metadata": {},
   "outputs": [],
   "source": []
  }
 ],
 "metadata": {
  "kernelspec": {
   "display_name": "Python 3",
   "language": "python",
   "name": "python3"
  },
  "language_info": {
   "codemirror_mode": {
    "name": "ipython",
    "version": 3
   },
   "file_extension": ".py",
   "mimetype": "text/x-python",
   "name": "python",
   "nbconvert_exporter": "python",
   "pygments_lexer": "ipython3",
   "version": "3.7.3"
  }
 },
 "nbformat": 4,
 "nbformat_minor": 2
}
